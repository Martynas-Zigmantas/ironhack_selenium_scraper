{
 "cells": [
  {
   "cell_type": "markdown",
   "metadata": {
    "id": "_A4vM4q0R9V6"
   },
   "source": [
    "# We are going to write a script that will web scrape flight information for multiple flights from the official Berlin Brandenburg Airport website:"
   ]
  },
  {
   "cell_type": "markdown",
   "metadata": {},
   "source": [
    "---"
   ]
  },
  {
   "cell_type": "markdown",
   "metadata": {},
   "source": [
    "### Import the necessary libraries"
   ]
  },
  {
   "cell_type": "code",
   "execution_count": 2,
   "metadata": {},
   "outputs": [],
   "source": [
    "# this is the library that we will use to create break times in order to mimic human behaviour\n",
    "import time\n",
    "from getpass import getpass\n",
    "\n",
    "\n",
    "# Juicy stuff- these are the Classes we will use for interaction with a webpage:\n",
    "from selenium import webdriver\n",
    "from selenium.webdriver.common.keys import Keys\n",
    "from selenium.webdriver.chrome.service import Service\n",
    "from selenium.webdriver.common.by import By\n",
    "from webdriver_manager.chrome import ChromeDriverManager\n",
    "\n",
    "\n",
    "# library for interacting with the operating system\n",
    "import os\n",
    "\n",
    "# you know pandas it's your best buddy\n",
    "import pandas as pd\n",
    "import numpy as np\n",
    "from bs4 import BeautifulSoup\n",
    "import re\n",
    "\n",
    "# library for directory location:\n",
    "\n",
    "import pathlib\n",
    "from os.path import join\n",
    "\n",
    "#Ignore warning -- Some methods are going to be deprecated and I didn't change all (mainly in the function scrapper)\n",
    "import warnings\n",
    "warnings.filterwarnings('ignore')"
   ]
  },
  {
   "cell_type": "markdown",
   "metadata": {},
   "source": [
    "### Load a driver and the website"
   ]
  },
  {
   "cell_type": "code",
   "execution_count": 3,
   "metadata": {},
   "outputs": [],
   "source": [
    "# This line of code opens a new web browser/driver\n",
    "driver = webdriver.Chrome(service=Service(ChromeDriverManager().install()))"
   ]
  },
  {
   "cell_type": "code",
   "execution_count": 6,
   "metadata": {},
   "outputs": [],
   "source": [
    "# We will be using this url to collect our data\n",
    "driver.get('https://ber.berlin-airport.de/en.html')"
   ]
  },
  {
   "cell_type": "markdown",
   "metadata": {},
   "source": [
    "### Click cookies"
   ]
  },
  {
   "cell_type": "code",
   "execution_count": 5,
   "metadata": {},
   "outputs": [],
   "source": [
    "# Our url prompts cookies so we will click \"OK\", if it's already clicked the cell will print \"Cookies already accepted.\"\n",
    "try:\n",
    "    cookie_button = driver.find_element(By.ID, \"CybotCookiebotDialogBodyLevelButtonLevelOptinAllowAll\")\n",
    "    cookie_button.click()\n",
    "    time.sleep(2.5)\n",
    "except:\n",
    "    print(\"Cookies already accepted.\")"
   ]
  },
  {
   "cell_type": "markdown",
   "metadata": {},
   "source": [
    "---"
   ]
  },
  {
   "cell_type": "markdown",
   "metadata": {},
   "source": [
    "## Once you have found your desired flights, let the scraping begin:"
   ]
  },
  {
   "cell_type": "markdown",
   "metadata": {},
   "source": [
    "### Get the html page source"
   ]
  },
  {
   "cell_type": "code",
   "execution_count": 11,
   "metadata": {},
   "outputs": [],
   "source": [
    "# Get the source code of the page and create a beautiful soup\n",
    "html = driver.page_source\n",
    "soup = BeautifulSoup(html)"
   ]
  },
  {
   "cell_type": "markdown",
   "metadata": {},
   "source": [
    "### Get all the flight links and save to a list"
   ]
  },
  {
   "cell_type": "code",
   "execution_count": 17,
   "metadata": {},
   "outputs": [],
   "source": [
    "# You already know how beautiful soup works, so I've done the digging for you\n",
    "\n",
    "flights = soup.find_all('div', attrs= {'class' : 'cmp-flightlist__list__items'})\n",
    "result_set_html = ''.join(str(tag) for tag in flights)\n",
    "new_flights = BeautifulSoup(result_set_html, 'html.parser')\n",
    "\n",
    "# Set the base URL to connect to the new links\n",
    "base_url = \"https://ber.berlin-airport.de\"\n",
    "\n",
    "# Find the location of the links in the beautiful soup\n",
    "a_tags = new_flights.find_all('a')\n",
    "\n",
    "# Save all the links to a list variable \"href_links\"\n",
    "href_list = [base_url + tag['href'] for tag in a_tags if 'href' in tag.attrs]"
   ]
  },
  {
   "cell_type": "markdown",
   "metadata": {},
   "source": [
    "### Save the links to a file for safe keeps"
   ]
  },
  {
   "cell_type": "code",
   "execution_count": 19,
   "metadata": {},
   "outputs": [
    {
     "name": "stdout",
     "output_type": "stream",
     "text": [
      "What Day: 28\n",
      "Arrival or Departure: departure\n"
     ]
    }
   ],
   "source": [
    "# Input the date you chose\n",
    "date_of_scrape = input(\"What Day: \")\n",
    "\n",
    "# Input arrival or departure\n",
    "arr_dep = input(\"Arrival or Departure: \")\n",
    "\n",
    "# Set the file path to your directory with name of new text file\n",
    "file_path = f\"Href Links/{arr_dep}_links_{date_of_scrape}.txt\"\n",
    "\n",
    "#Save it as a .txt file\n",
    "with open(file_path, 'w') as file:\n",
    "    for href in href_list:\n",
    "        file.write(f\"{href}\\n\")"
   ]
  },
  {
   "cell_type": "markdown",
   "metadata": {},
   "source": [
    "---"
   ]
  },
  {
   "cell_type": "markdown",
   "metadata": {},
   "source": [
    "# Testing for Elements"
   ]
  },
  {
   "cell_type": "markdown",
   "metadata": {},
   "source": [
    "### Open the links file into a list"
   ]
  },
  {
   "cell_type": "markdown",
   "metadata": {},
   "source": [
    "#### Departures"
   ]
  },
  {
   "cell_type": "code",
   "execution_count": 21,
   "metadata": {},
   "outputs": [
    {
     "name": "stdout",
     "output_type": "stream",
     "text": [
      "What Day: 28\n"
     ]
    }
   ],
   "source": [
    "# Select the date\n",
    "date_of_scrape = input(\"What Day: \")\n",
    "\n",
    "# Open the text file\n",
    "with open(f\"Href Links/departure_links_{date_of_scrape}.txt\", 'r') as file:\n",
    "    href_list_dep = [line.strip() for line in file]"
   ]
  },
  {
   "cell_type": "markdown",
   "metadata": {},
   "source": [
    "#### Arrivals"
   ]
  },
  {
   "cell_type": "code",
   "execution_count": 22,
   "metadata": {},
   "outputs": [
    {
     "name": "stdout",
     "output_type": "stream",
     "text": [
      "What Day: 28\n"
     ]
    }
   ],
   "source": [
    "# Select the date\n",
    "date_of_scrape = input(\"What Day: \")\n",
    "\n",
    "# Open the text file\n",
    "with open(f\"Href Links/arrival_links_{date_of_scrape}.txt\", 'r') as file:\n",
    "    href_list_arr = [line.strip() for line in file]"
   ]
  },
  {
   "cell_type": "markdown",
   "metadata": {},
   "source": [
    "### Test for elements"
   ]
  },
  {
   "cell_type": "code",
   "execution_count": 26,
   "metadata": {
    "scrolled": true
   },
   "outputs": [
    {
     "data": {
      "text/plain": [
       "'https://ber.berlin-airport.de/en/flying/departures-arrivals/flugdetails.html?flightId=1312634'"
      ]
     },
     "execution_count": 26,
     "metadata": {},
     "output_type": "execute_result"
    }
   ],
   "source": [
    "# Check the list of links for an example flight\n",
    "href_list_arr[2]"
   ]
  },
  {
   "cell_type": "code",
   "execution_count": 27,
   "metadata": {},
   "outputs": [],
   "source": [
    "# Open one of the links\n",
    "driver.get(href_list_arr[2])"
   ]
  },
  {
   "cell_type": "code",
   "execution_count": 28,
   "metadata": {},
   "outputs": [],
   "source": [
    "# Get the scheduled time of the arrival flight\n",
    "new_element = driver.find_element(By.CSS_SELECTOR,\"strong[data-flight-data^='arr_expected_time']\").text"
   ]
  },
  {
   "cell_type": "code",
   "execution_count": 29,
   "metadata": {},
   "outputs": [
    {
     "data": {
      "text/plain": [
       "'28/07/2024 21:11'"
      ]
     },
     "execution_count": 29,
     "metadata": {},
     "output_type": "execute_result"
    }
   ],
   "source": [
    "new_element"
   ]
  },
  {
   "cell_type": "markdown",
   "metadata": {},
   "source": [
    "## Use the function below to scrape all the flights in the list of links and create a database"
   ]
  },
  {
   "cell_type": "markdown",
   "metadata": {},
   "source": [
    "### Departures"
   ]
  },
  {
   "cell_type": "code",
   "execution_count": 12,
   "metadata": {
    "scrolled": true
   },
   "outputs": [
    {
     "name": "stdout",
     "output_type": "stream",
     "text": [
      "What Day: 28\n",
      "1 out of 24 scraped\n",
      "2 out of 24 scraped\n",
      "3 out of 24 scraped\n",
      "4 out of 24 scraped\n",
      "5 out of 24 scraped\n",
      "6 out of 24 scraped\n",
      "7 out of 24 scraped\n",
      "8 out of 24 scraped\n",
      "9 out of 24 scraped\n",
      "10 out of 24 scraped\n",
      "11 out of 24 scraped\n",
      "12 out of 24 scraped\n",
      "13 out of 24 scraped\n",
      "14 out of 24 scraped\n",
      "15 out of 24 scraped\n",
      "16 out of 24 scraped\n",
      "17 out of 24 scraped\n",
      "18 out of 24 scraped\n",
      "19 out of 24 scraped\n",
      "20 out of 24 scraped\n",
      "21 out of 24 scraped\n",
      "22 out of 24 scraped\n",
      "23 out of 24 scraped\n",
      "24 out of 24 scraped\n"
     ]
    }
   ],
   "source": [
    "flight_data_dep = []\n",
    "date_of_scrape = input(\"What Day: \")\n",
    "for_loading = 0\n",
    "\n",
    "with open(f\"Href Links/departure_links_{date_of_scrape}.txt\", 'r') as file:\n",
    "    href_list_dep = [line.strip() for line in file]\n",
    "    \n",
    "for link in href_list_dep:\n",
    "    \n",
    "    driver.get(link)\n",
    "    time.sleep(1)\n",
    "    \n",
    "    try:\n",
    "        cookie_button = driver.find_element(By.ID, \"CybotCookiebotDialogBodyLevelButtonLevelOptinAllowAll\")\n",
    "        cookie_button.click()\n",
    "        time.sleep(1.5)\n",
    "    except:\n",
    "        pass\n",
    "    \n",
    "    driver.execute_script(\"document.body.style.zoom='100%'\")\n",
    "\n",
    "    driver.execute_script(\"document.body.style.zoom='67%'\")\n",
    "    time.sleep(1.3)\n",
    "    \n",
    "    \n",
    "    depart_air = driver.find_element(By.CSS_SELECTOR,\"h2[data-flight-data^='dep_airport_name']\").text\n",
    "    arrival_air = driver.find_element(By.CSS_SELECTOR,\"h2[data-flight-data^='arr_airport_name']\").text\n",
    "    date_time = driver.find_element(By.CSS_SELECTOR,\"strong[data-flight-data^='dep_scheduled_time']\").text\n",
    "    actual_time = driver.find_element(By.CSS_SELECTOR,\"strong[data-flight-data^='dep_expected_time']\").text\n",
    "    terminal = driver.find_element(By.CSS_SELECTOR,\"i[data-flight-data^='terminal']\").text\n",
    "    check_in = driver.find_element(By.CSS_SELECTOR,\"strong[data-flight-data^='checkin_counter']\").text\n",
    "    gate = driver.find_element(By.CSS_SELECTOR,\"strong[data-flight-data^='gate']\").text\n",
    "    airline = driver.find_element(By.CSS_SELECTOR,\"span[data-flight-data^='airline_name']\").text\n",
    "    flight_nr = driver.find_element(By.CSS_SELECTOR,\"strong[data-flight-data^='flight_number_details']\").text\n",
    "    aircraft_type = driver.find_element(By.CSS_SELECTOR,\"strong[data-flight-data^='aircraft_type']\").text\n",
    "    plane_reg = driver.find_element(By.CSS_SELECTOR,\"strong[data-flight-data^='aircraft_reg']\").text\n",
    "    status = driver.find_element(By.CSS_SELECTOR,\"u[data-flight-data^='flight_status_label']\").text\n",
    "\n",
    "    flight_idx_list_dep = [depart_air, arrival_air, date_time, actual_time, terminal, check_in, gate, flight_nr, aircraft_type, plane_reg, status, airline]\n",
    "    \n",
    "    flight_data_dep.append(flight_idx_list_dep)\n",
    "    \n",
    "    \n",
    "    for_loading = for_loading+1\n",
    "    print(f\"{for_loading} out of {len(href_list_dep)} scraped\")\n",
    "    \n",
    "departure_dataframe = pd.DataFrame(flight_data_dep,\n",
    "                                 columns = [\"Departure\", \"Destination\", \"Date and Time\", \"Actual Departure\", \"Terminal\", \"Check In\" , \"Gate\", \"Flight Number\", \"Aircraft Type\", \"Plane Reg\", \"Flight Status\", \"Airline\" ]\n",
    "                                )\n",
    "\n",
    "departure_dataframe.to_excel(f\"Data/departure_info_{date_of_scrape}.xlsx\",\n",
    "                           sheet_name='Flights',\n",
    "                           index= False)"
   ]
  },
  {
   "cell_type": "markdown",
   "metadata": {},
   "source": [
    "### Arrivals"
   ]
  },
  {
   "cell_type": "code",
   "execution_count": 17,
   "metadata": {
    "scrolled": true
   },
   "outputs": [
    {
     "name": "stdout",
     "output_type": "stream",
     "text": [
      "What Date: 28\n",
      "1 out of 48 scraped\n",
      "2 out of 48 scraped\n",
      "3 out of 48 scraped\n",
      "4 out of 48 scraped\n",
      "5 out of 48 scraped\n",
      "6 out of 48 scraped\n",
      "7 out of 48 scraped\n",
      "8 out of 48 scraped\n",
      "9 out of 48 scraped\n",
      "10 out of 48 scraped\n",
      "11 out of 48 scraped\n",
      "12 out of 48 scraped\n",
      "13 out of 48 scraped\n",
      "14 out of 48 scraped\n",
      "15 out of 48 scraped\n",
      "16 out of 48 scraped\n",
      "17 out of 48 scraped\n",
      "18 out of 48 scraped\n",
      "19 out of 48 scraped\n",
      "20 out of 48 scraped\n",
      "21 out of 48 scraped\n",
      "22 out of 48 scraped\n",
      "23 out of 48 scraped\n",
      "24 out of 48 scraped\n",
      "25 out of 48 scraped\n",
      "26 out of 48 scraped\n",
      "27 out of 48 scraped\n",
      "28 out of 48 scraped\n",
      "29 out of 48 scraped\n",
      "30 out of 48 scraped\n",
      "31 out of 48 scraped\n",
      "32 out of 48 scraped\n",
      "33 out of 48 scraped\n",
      "34 out of 48 scraped\n",
      "35 out of 48 scraped\n",
      "36 out of 48 scraped\n",
      "37 out of 48 scraped\n",
      "38 out of 48 scraped\n",
      "39 out of 48 scraped\n",
      "40 out of 48 scraped\n",
      "41 out of 48 scraped\n",
      "42 out of 48 scraped\n",
      "43 out of 48 scraped\n",
      "44 out of 48 scraped\n",
      "45 out of 48 scraped\n",
      "46 out of 48 scraped\n",
      "47 out of 48 scraped\n",
      "48 out of 48 scraped\n"
     ]
    }
   ],
   "source": [
    "flight_data_arr = []\n",
    "date_of_scrape = input(\"What Date: \")\n",
    "for_loading = 0\n",
    "\n",
    "with open(f\"Href Links/arrival_links_{date_of_scrape}.txt\", 'r') as file:\n",
    "    href_list_arr = [line.strip() for line in file]\n",
    "\n",
    "for link in href_list_arr:\n",
    "    \n",
    "    driver.get(link)\n",
    "    time.sleep(1)\n",
    "    \n",
    "    try:\n",
    "        cookie_button = driver.find_element(By.ID, \"CybotCookiebotDialogBodyLevelButtonLevelOptinAllowAll\")\n",
    "        cookie_button.click()\n",
    "        time.sleep(1.5)\n",
    "    except:\n",
    "        pass\n",
    "    \n",
    "    driver.execute_script(\"document.body.style.zoom='100%'\")\n",
    "\n",
    "    driver.execute_script(\"document.body.style.zoom='67%'\")\n",
    "    time.sleep(1.3)\n",
    "    \n",
    "    \n",
    "    depart_air = driver.find_element(By.CSS_SELECTOR,\"h2[data-flight-data^='dep_airport_name']\").text\n",
    "    arrival_air = driver.find_element(By.CSS_SELECTOR,\"h2[data-flight-data^='arr_airport_name']\").text\n",
    "    date_time = driver.find_element(By.CSS_SELECTOR,\"strong[data-flight-data^='arr_scheduled_time']\").text\n",
    "    actual_time = driver.find_element(By.CSS_SELECTOR,\"strong[data-flight-data^='arr_expected_time']\").text\n",
    "    terminal = driver.find_element(By.CSS_SELECTOR,\"i[data-flight-data^='terminal_arr']\").text\n",
    "    check_in = driver.find_element(By.CSS_SELECTOR,\"strong[data-flight-data^='arr_belt']\").text\n",
    "    gate = driver.find_element(By.CSS_SELECTOR,\"strong[data-flight-data^='gate_arr']\").text\n",
    "    airline = driver.find_element(By.CSS_SELECTOR,\"span[data-flight-data^='airline_name']\").text\n",
    "    flight_nr = driver.find_element(By.CSS_SELECTOR,\"strong[data-flight-data^='flight_number_details']\").text\n",
    "    aircraft_type = driver.find_element(By.CSS_SELECTOR,\"strong[data-flight-data^='aircraft_type']\").text\n",
    "    plane_reg = driver.find_element(By.CSS_SELECTOR,\"strong[data-flight-data^='aircraft_reg']\").text\n",
    "    status = driver.find_element(By.CSS_SELECTOR,\"u[data-flight-data^='flight_status_label']\").text\n",
    "\n",
    "    flight_idx_list_arr = [depart_air, arrival_air, date_time, actual_time, terminal, check_in, gate, flight_nr, aircraft_type, plane_reg, status, airline]\n",
    "    \n",
    "    flight_data_arr.append(flight_idx_list_arr)\n",
    "    \n",
    "    \n",
    "    for_loading = for_loading+1\n",
    "    print(f\"{for_loading} out of {len(href_list_arr)} scraped\")\n",
    "    \n",
    "arrival_dataframe = pd.DataFrame(flight_data_arr,\n",
    "                                 columns = [\"Departure\", \"Destination\", \"Date and Time\", \"Actual Arrival\", \"Terminal\", \"Baggage Claim\" , \"Gate\", \"Flight Number\", \"Aircraft Type\", \"Plane Reg\", \"Flight Status\", \"Airline\" ]\n",
    "                                )\n",
    "\n",
    "arrival_dataframe.to_excel(f\"Data/arrival_info_{date_of_scrape}.xlsx\",\n",
    "                           sheet_name='Flights',\n",
    "                           index= False)"
   ]
  },
  {
   "cell_type": "markdown",
   "metadata": {},
   "source": [
    "### Close Driver"
   ]
  },
  {
   "cell_type": "code",
   "execution_count": 7,
   "metadata": {},
   "outputs": [],
   "source": [
    "driver.close()"
   ]
  },
  {
   "cell_type": "markdown",
   "metadata": {},
   "source": [
    "---"
   ]
  },
  {
   "cell_type": "markdown",
   "metadata": {},
   "source": [
    "## Check the data"
   ]
  },
  {
   "cell_type": "code",
   "execution_count": 15,
   "metadata": {},
   "outputs": [
    {
     "data": {
      "text/html": [
       "<div>\n",
       "<style scoped>\n",
       "    .dataframe tbody tr th:only-of-type {\n",
       "        vertical-align: middle;\n",
       "    }\n",
       "\n",
       "    .dataframe tbody tr th {\n",
       "        vertical-align: top;\n",
       "    }\n",
       "\n",
       "    .dataframe thead th {\n",
       "        text-align: right;\n",
       "    }\n",
       "</style>\n",
       "<table border=\"1\" class=\"dataframe\">\n",
       "  <thead>\n",
       "    <tr style=\"text-align: right;\">\n",
       "      <th></th>\n",
       "      <th>Departure</th>\n",
       "      <th>Destination</th>\n",
       "      <th>Date and Time</th>\n",
       "      <th>Actual Departure</th>\n",
       "      <th>Terminal</th>\n",
       "      <th>Check In</th>\n",
       "      <th>Gate</th>\n",
       "      <th>Flight Number</th>\n",
       "      <th>Aircraft Type</th>\n",
       "      <th>Plane Reg</th>\n",
       "      <th>Flight Status</th>\n",
       "      <th>Airline</th>\n",
       "    </tr>\n",
       "  </thead>\n",
       "  <tbody>\n",
       "    <tr>\n",
       "      <th>0</th>\n",
       "      <td>Berlin Brandenburg Airport</td>\n",
       "      <td>Antalya</td>\n",
       "      <td>28/07/2024 18:50</td>\n",
       "      <td>28/07/2024 21:00</td>\n",
       "      <td>T1</td>\n",
       "      <td>521-524</td>\n",
       "      <td>C10</td>\n",
       "      <td>PC 5008</td>\n",
       "      <td>A320 Neo</td>\n",
       "      <td>TCNCZ</td>\n",
       "      <td>Departed</td>\n",
       "      <td>Pegasus Airlines (PC)</td>\n",
       "    </tr>\n",
       "    <tr>\n",
       "      <th>1</th>\n",
       "      <td>Berlin Brandenburg Airport</td>\n",
       "      <td>Paris CDG</td>\n",
       "      <td>28/07/2024 19:05</td>\n",
       "      <td>28/07/2024 21:00</td>\n",
       "      <td>T1</td>\n",
       "      <td>811-816</td>\n",
       "      <td>A07</td>\n",
       "      <td>AF 1535</td>\n",
       "      <td>A321-100</td>\n",
       "      <td>FGMZA</td>\n",
       "      <td>Departed</td>\n",
       "      <td>Air France (AF)</td>\n",
       "    </tr>\n",
       "    <tr>\n",
       "      <th>2</th>\n",
       "      <td>Berlin Brandenburg Airport</td>\n",
       "      <td>Krakow</td>\n",
       "      <td>28/07/2024 20:05</td>\n",
       "      <td>28/07/2024 21:00</td>\n",
       "      <td>T2</td>\n",
       "      <td>158-165</td>\n",
       "      <td>B38</td>\n",
       "      <td>FR 2535</td>\n",
       "      <td>737 MAX 8</td>\n",
       "      <td>9HVUH</td>\n",
       "      <td>Departed</td>\n",
       "      <td>Ryanair (FR)</td>\n",
       "    </tr>\n",
       "    <tr>\n",
       "      <th>3</th>\n",
       "      <td>Berlin Brandenburg Airport</td>\n",
       "      <td>London LHR</td>\n",
       "      <td>28/07/2024 21:00</td>\n",
       "      <td>NaN</td>\n",
       "      <td>T1</td>\n",
       "      <td>221-225</td>\n",
       "      <td>C01</td>\n",
       "      <td>BA 995</td>\n",
       "      <td>A319</td>\n",
       "      <td>GDBCA</td>\n",
       "      <td>Departed</td>\n",
       "      <td>British Airways (BA)</td>\n",
       "    </tr>\n",
       "    <tr>\n",
       "      <th>4</th>\n",
       "      <td>Berlin Brandenburg Airport</td>\n",
       "      <td>Vienna</td>\n",
       "      <td>28/07/2024 21:00</td>\n",
       "      <td>NaN</td>\n",
       "      <td>T1</td>\n",
       "      <td>421-426</td>\n",
       "      <td>B06</td>\n",
       "      <td>OS 238</td>\n",
       "      <td>A320-200</td>\n",
       "      <td>OELBX</td>\n",
       "      <td>Departed</td>\n",
       "      <td>Austrian Airlines (OS)</td>\n",
       "    </tr>\n",
       "    <tr>\n",
       "      <th>5</th>\n",
       "      <td>Berlin Brandenburg Airport</td>\n",
       "      <td>Kaunas</td>\n",
       "      <td>28/07/2024 21:05</td>\n",
       "      <td>28/07/2024 21:45</td>\n",
       "      <td>T2</td>\n",
       "      <td>158-165</td>\n",
       "      <td>B32</td>\n",
       "      <td>FR 709</td>\n",
       "      <td>737-800 Winglets</td>\n",
       "      <td>SPRNK</td>\n",
       "      <td>Departed</td>\n",
       "      <td>Ryanair (FR)</td>\n",
       "    </tr>\n",
       "    <tr>\n",
       "      <th>6</th>\n",
       "      <td>Berlin Brandenburg Airport</td>\n",
       "      <td>Copenhagen</td>\n",
       "      <td>28/07/2024 21:05</td>\n",
       "      <td>NaN</td>\n",
       "      <td>T1</td>\n",
       "      <td>511-516</td>\n",
       "      <td>B24</td>\n",
       "      <td>SK 1680</td>\n",
       "      <td>ATR 72-600</td>\n",
       "      <td>ESATI</td>\n",
       "      <td>Departed</td>\n",
       "      <td>SAS-Scandinavian Airlines System (SK)</td>\n",
       "    </tr>\n",
       "    <tr>\n",
       "      <th>7</th>\n",
       "      <td>Berlin Brandenburg Airport</td>\n",
       "      <td>Milan LIN</td>\n",
       "      <td>28/07/2024 21:10</td>\n",
       "      <td>NaN</td>\n",
       "      <td>T1</td>\n",
       "      <td>611-616</td>\n",
       "      <td>A33</td>\n",
       "      <td>EJU5073</td>\n",
       "      <td>A320-200 Sharklets</td>\n",
       "      <td>OEIBF</td>\n",
       "      <td>Departed</td>\n",
       "      <td>easyJet Europe (EJU)</td>\n",
       "    </tr>\n",
       "    <tr>\n",
       "      <th>8</th>\n",
       "      <td>Berlin Brandenburg Airport</td>\n",
       "      <td>Luxembourg</td>\n",
       "      <td>28/07/2024 21:10</td>\n",
       "      <td>NaN</td>\n",
       "      <td>T1</td>\n",
       "      <td>121-122</td>\n",
       "      <td>B25</td>\n",
       "      <td>LG 9474</td>\n",
       "      <td>DHC-8-400 / Q400</td>\n",
       "      <td>LXLGE</td>\n",
       "      <td>Departed</td>\n",
       "      <td>Luxair (LG)</td>\n",
       "    </tr>\n",
       "    <tr>\n",
       "      <th>9</th>\n",
       "      <td>Berlin Brandenburg Airport</td>\n",
       "      <td>Antalya</td>\n",
       "      <td>28/07/2024 21:15</td>\n",
       "      <td>NaN</td>\n",
       "      <td>T1</td>\n",
       "      <td>724-726</td>\n",
       "      <td>C19</td>\n",
       "      <td>XQ 663</td>\n",
       "      <td>737 MAX 8</td>\n",
       "      <td>TCSMI</td>\n",
       "      <td>Departed</td>\n",
       "      <td>Sun Express (XQ)</td>\n",
       "    </tr>\n",
       "  </tbody>\n",
       "</table>\n",
       "</div>"
      ],
      "text/plain": [
       "                    Departure Destination     Date and Time  Actual Departure  \\\n",
       "0  Berlin Brandenburg Airport     Antalya  28/07/2024 18:50  28/07/2024 21:00   \n",
       "1  Berlin Brandenburg Airport   Paris CDG  28/07/2024 19:05  28/07/2024 21:00   \n",
       "2  Berlin Brandenburg Airport      Krakow  28/07/2024 20:05  28/07/2024 21:00   \n",
       "3  Berlin Brandenburg Airport  London LHR  28/07/2024 21:00               NaN   \n",
       "4  Berlin Brandenburg Airport      Vienna  28/07/2024 21:00               NaN   \n",
       "5  Berlin Brandenburg Airport      Kaunas  28/07/2024 21:05  28/07/2024 21:45   \n",
       "6  Berlin Brandenburg Airport  Copenhagen  28/07/2024 21:05               NaN   \n",
       "7  Berlin Brandenburg Airport   Milan LIN  28/07/2024 21:10               NaN   \n",
       "8  Berlin Brandenburg Airport  Luxembourg  28/07/2024 21:10               NaN   \n",
       "9  Berlin Brandenburg Airport     Antalya  28/07/2024 21:15               NaN   \n",
       "\n",
       "  Terminal Check In Gate Flight Number       Aircraft Type Plane Reg  \\\n",
       "0       T1  521-524  C10       PC 5008            A320 Neo     TCNCZ   \n",
       "1       T1  811-816  A07       AF 1535            A321-100     FGMZA   \n",
       "2       T2  158-165  B38       FR 2535           737 MAX 8     9HVUH   \n",
       "3       T1  221-225  C01        BA 995                A319     GDBCA   \n",
       "4       T1  421-426  B06        OS 238            A320-200     OELBX   \n",
       "5       T2  158-165  B32        FR 709    737-800 Winglets     SPRNK   \n",
       "6       T1  511-516  B24       SK 1680          ATR 72-600     ESATI   \n",
       "7       T1  611-616  A33       EJU5073  A320-200 Sharklets     OEIBF   \n",
       "8       T1  121-122  B25       LG 9474    DHC-8-400 / Q400     LXLGE   \n",
       "9       T1  724-726  C19        XQ 663           737 MAX 8     TCSMI   \n",
       "\n",
       "  Flight Status                                Airline  \n",
       "0      Departed                  Pegasus Airlines (PC)  \n",
       "1      Departed                        Air France (AF)  \n",
       "2      Departed                           Ryanair (FR)  \n",
       "3      Departed                   British Airways (BA)  \n",
       "4      Departed                 Austrian Airlines (OS)  \n",
       "5      Departed                           Ryanair (FR)  \n",
       "6      Departed  SAS-Scandinavian Airlines System (SK)  \n",
       "7      Departed                   easyJet Europe (EJU)  \n",
       "8      Departed                            Luxair (LG)  \n",
       "9      Departed                       Sun Express (XQ)  "
      ]
     },
     "execution_count": 15,
     "metadata": {},
     "output_type": "execute_result"
    }
   ],
   "source": [
    "departures = pd.read_excel(\"Data/departure_info_28.xlsx\")\n",
    "departures.head(10)"
   ]
  },
  {
   "cell_type": "code",
   "execution_count": 18,
   "metadata": {},
   "outputs": [
    {
     "data": {
      "text/html": [
       "<div>\n",
       "<style scoped>\n",
       "    .dataframe tbody tr th:only-of-type {\n",
       "        vertical-align: middle;\n",
       "    }\n",
       "\n",
       "    .dataframe tbody tr th {\n",
       "        vertical-align: top;\n",
       "    }\n",
       "\n",
       "    .dataframe thead th {\n",
       "        text-align: right;\n",
       "    }\n",
       "</style>\n",
       "<table border=\"1\" class=\"dataframe\">\n",
       "  <thead>\n",
       "    <tr style=\"text-align: right;\">\n",
       "      <th></th>\n",
       "      <th>Departure</th>\n",
       "      <th>Destination</th>\n",
       "      <th>Date and Time</th>\n",
       "      <th>Actual Arrival</th>\n",
       "      <th>Terminal</th>\n",
       "      <th>Baggage Claim</th>\n",
       "      <th>Gate</th>\n",
       "      <th>Flight Number</th>\n",
       "      <th>Aircraft Type</th>\n",
       "      <th>Plane Reg</th>\n",
       "      <th>Flight Status</th>\n",
       "      <th>Airline</th>\n",
       "    </tr>\n",
       "  </thead>\n",
       "  <tbody>\n",
       "    <tr>\n",
       "      <th>0</th>\n",
       "      <td>Barcelona</td>\n",
       "      <td>Berlin Brandenburg Airport</td>\n",
       "      <td>28/07/2024 17:25</td>\n",
       "      <td>28/07/2024 21:02</td>\n",
       "      <td>T1</td>\n",
       "      <td>A4</td>\n",
       "      <td>A35</td>\n",
       "      <td>EJU5124</td>\n",
       "      <td>A320-200</td>\n",
       "      <td>OEIDO</td>\n",
       "      <td>Arrived</td>\n",
       "      <td>easyJet Europe (EJU)</td>\n",
       "    </tr>\n",
       "    <tr>\n",
       "      <th>1</th>\n",
       "      <td>Kos</td>\n",
       "      <td>Berlin Brandenburg Airport</td>\n",
       "      <td>28/07/2024 19:10</td>\n",
       "      <td>28/07/2024 23:01</td>\n",
       "      <td>T1</td>\n",
       "      <td>A3</td>\n",
       "      <td>A37</td>\n",
       "      <td>EW 8671</td>\n",
       "      <td>A320-200</td>\n",
       "      <td>9HAMK</td>\n",
       "      <td>Arrived</td>\n",
       "      <td>Eurowings (EW)</td>\n",
       "    </tr>\n",
       "    <tr>\n",
       "      <th>2</th>\n",
       "      <td>Kaunas</td>\n",
       "      <td>Berlin Brandenburg Airport</td>\n",
       "      <td>28/07/2024 20:40</td>\n",
       "      <td>28/07/2024 21:11</td>\n",
       "      <td>T2</td>\n",
       "      <td>C1</td>\n",
       "      <td>Z32</td>\n",
       "      <td>FR 710</td>\n",
       "      <td>737-800 Winglets</td>\n",
       "      <td>SPRNK</td>\n",
       "      <td>Arrived</td>\n",
       "      <td>Ryanair (FR)</td>\n",
       "    </tr>\n",
       "    <tr>\n",
       "      <th>3</th>\n",
       "      <td>Reggio Calabria</td>\n",
       "      <td>Berlin Brandenburg Airport</td>\n",
       "      <td>28/07/2024 20:55</td>\n",
       "      <td>28/07/2024 21:46</td>\n",
       "      <td>T2</td>\n",
       "      <td>C3</td>\n",
       "      <td>Z34</td>\n",
       "      <td>FR 8603</td>\n",
       "      <td>737-800 Winglets</td>\n",
       "      <td>9HQEJ</td>\n",
       "      <td>Arrived</td>\n",
       "      <td>Ryanair (FR)</td>\n",
       "    </tr>\n",
       "    <tr>\n",
       "      <th>4</th>\n",
       "      <td>Malta</td>\n",
       "      <td>Berlin Brandenburg Airport</td>\n",
       "      <td>28/07/2024 20:55</td>\n",
       "      <td>28/07/2024 21:17</td>\n",
       "      <td>T1</td>\n",
       "      <td>B3</td>\n",
       "      <td>B02</td>\n",
       "      <td>KM 376</td>\n",
       "      <td>A320-200</td>\n",
       "      <td>9HAEP</td>\n",
       "      <td>Arrived</td>\n",
       "      <td>Air Malta (KM)</td>\n",
       "    </tr>\n",
       "    <tr>\n",
       "      <th>5</th>\n",
       "      <td>Frankfurt</td>\n",
       "      <td>Berlin Brandenburg Airport</td>\n",
       "      <td>28/07/2024 20:55</td>\n",
       "      <td>28/07/2024 21:19</td>\n",
       "      <td>T1</td>\n",
       "      <td>B1</td>\n",
       "      <td>S01</td>\n",
       "      <td>LH 200</td>\n",
       "      <td>A321-100</td>\n",
       "      <td>DAIRO</td>\n",
       "      <td>Arrived</td>\n",
       "      <td>Lufthansa (LH)</td>\n",
       "    </tr>\n",
       "    <tr>\n",
       "      <th>6</th>\n",
       "      <td>Edinburgh</td>\n",
       "      <td>Berlin Brandenburg Airport</td>\n",
       "      <td>28/07/2024 21:05</td>\n",
       "      <td>28/07/2024 21:27</td>\n",
       "      <td>T1</td>\n",
       "      <td>A2</td>\n",
       "      <td>X10</td>\n",
       "      <td>EZY3261</td>\n",
       "      <td>A320-200 Sharklets</td>\n",
       "      <td>GEZPB</td>\n",
       "      <td>Arrived</td>\n",
       "      <td>easyJet UK (U2)</td>\n",
       "    </tr>\n",
       "    <tr>\n",
       "      <th>7</th>\n",
       "      <td>Bologna</td>\n",
       "      <td>Berlin Brandenburg Airport</td>\n",
       "      <td>28/07/2024 21:05</td>\n",
       "      <td>28/07/2024 22:16</td>\n",
       "      <td>T2</td>\n",
       "      <td>C2</td>\n",
       "      <td>Z33</td>\n",
       "      <td>FR 137</td>\n",
       "      <td>737 MAX 8</td>\n",
       "      <td>9HVUL</td>\n",
       "      <td>Arrived</td>\n",
       "      <td>Ryanair (FR)</td>\n",
       "    </tr>\n",
       "    <tr>\n",
       "      <th>8</th>\n",
       "      <td>Palma de Mallorca</td>\n",
       "      <td>Berlin Brandenburg Airport</td>\n",
       "      <td>28/07/2024 21:05</td>\n",
       "      <td>28/07/2024 21:32</td>\n",
       "      <td>T2</td>\n",
       "      <td>C1</td>\n",
       "      <td>Z29</td>\n",
       "      <td>FR 263</td>\n",
       "      <td>737-800 Winglets</td>\n",
       "      <td>9HQCH</td>\n",
       "      <td>Arrived</td>\n",
       "      <td>Ryanair (FR)</td>\n",
       "    </tr>\n",
       "    <tr>\n",
       "      <th>9</th>\n",
       "      <td>Istanbul IST</td>\n",
       "      <td>Berlin Brandenburg Airport</td>\n",
       "      <td>28/07/2024 21:05</td>\n",
       "      <td>28/07/2024 21:13</td>\n",
       "      <td>T1</td>\n",
       "      <td>A3</td>\n",
       "      <td>X03</td>\n",
       "      <td>TK 1727</td>\n",
       "      <td>A321-200 Sharklets</td>\n",
       "      <td>TCJSN</td>\n",
       "      <td>Arrived</td>\n",
       "      <td>Turkish Airlines (TK)</td>\n",
       "    </tr>\n",
       "  </tbody>\n",
       "</table>\n",
       "</div>"
      ],
      "text/plain": [
       "           Departure                 Destination     Date and Time  \\\n",
       "0          Barcelona  Berlin Brandenburg Airport  28/07/2024 17:25   \n",
       "1                Kos  Berlin Brandenburg Airport  28/07/2024 19:10   \n",
       "2             Kaunas  Berlin Brandenburg Airport  28/07/2024 20:40   \n",
       "3    Reggio Calabria  Berlin Brandenburg Airport  28/07/2024 20:55   \n",
       "4              Malta  Berlin Brandenburg Airport  28/07/2024 20:55   \n",
       "5          Frankfurt  Berlin Brandenburg Airport  28/07/2024 20:55   \n",
       "6          Edinburgh  Berlin Brandenburg Airport  28/07/2024 21:05   \n",
       "7            Bologna  Berlin Brandenburg Airport  28/07/2024 21:05   \n",
       "8  Palma de Mallorca  Berlin Brandenburg Airport  28/07/2024 21:05   \n",
       "9       Istanbul IST  Berlin Brandenburg Airport  28/07/2024 21:05   \n",
       "\n",
       "     Actual Arrival Terminal Baggage Claim Gate Flight Number  \\\n",
       "0  28/07/2024 21:02       T1            A4  A35       EJU5124   \n",
       "1  28/07/2024 23:01       T1            A3  A37       EW 8671   \n",
       "2  28/07/2024 21:11       T2            C1  Z32        FR 710   \n",
       "3  28/07/2024 21:46       T2            C3  Z34       FR 8603   \n",
       "4  28/07/2024 21:17       T1            B3  B02        KM 376   \n",
       "5  28/07/2024 21:19       T1            B1  S01        LH 200   \n",
       "6  28/07/2024 21:27       T1            A2  X10       EZY3261   \n",
       "7  28/07/2024 22:16       T2            C2  Z33        FR 137   \n",
       "8  28/07/2024 21:32       T2            C1  Z29        FR 263   \n",
       "9  28/07/2024 21:13       T1            A3  X03       TK 1727   \n",
       "\n",
       "        Aircraft Type Plane Reg Flight Status                Airline  \n",
       "0            A320-200     OEIDO       Arrived   easyJet Europe (EJU)  \n",
       "1            A320-200     9HAMK       Arrived         Eurowings (EW)  \n",
       "2    737-800 Winglets     SPRNK       Arrived           Ryanair (FR)  \n",
       "3    737-800 Winglets     9HQEJ       Arrived           Ryanair (FR)  \n",
       "4            A320-200     9HAEP       Arrived         Air Malta (KM)  \n",
       "5            A321-100     DAIRO       Arrived         Lufthansa (LH)  \n",
       "6  A320-200 Sharklets     GEZPB       Arrived        easyJet UK (U2)  \n",
       "7           737 MAX 8     9HVUL       Arrived           Ryanair (FR)  \n",
       "8    737-800 Winglets     9HQCH       Arrived           Ryanair (FR)  \n",
       "9  A321-200 Sharklets     TCJSN       Arrived  Turkish Airlines (TK)  "
      ]
     },
     "execution_count": 18,
     "metadata": {},
     "output_type": "execute_result"
    }
   ],
   "source": [
    "arrivals = pd.read_excel(\"Data/arrival_info_28.xlsx\")\n",
    "arrivals.head(10)"
   ]
  },
  {
   "cell_type": "code",
   "execution_count": null,
   "metadata": {},
   "outputs": [],
   "source": []
  }
 ],
 "metadata": {
  "colab": {
   "collapsed_sections": [
    "DjHVfaipR9WG",
    "gM6LkxT5R9WH"
   ],
   "provenance": []
  },
  "kernelspec": {
   "display_name": "Python 3 (ipykernel)",
   "language": "python",
   "name": "python3"
  },
  "language_info": {
   "codemirror_mode": {
    "name": "ipython",
    "version": 3
   },
   "file_extension": ".py",
   "mimetype": "text/x-python",
   "name": "python",
   "nbconvert_exporter": "python",
   "pygments_lexer": "ipython3",
   "version": "3.11.5"
  }
 },
 "nbformat": 4,
 "nbformat_minor": 1
}
