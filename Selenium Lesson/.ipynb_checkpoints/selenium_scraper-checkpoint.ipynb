{
 "cells": [
  {
   "cell_type": "markdown",
   "metadata": {
    "id": "_A4vM4q0R9V6"
   },
   "source": [
    "# We are going to write a script that will web scrape flight information for multiple flights from the official Berlin Brandenburg Airport website:"
   ]
  },
  {
   "cell_type": "markdown",
   "metadata": {},
   "source": [
    "---"
   ]
  },
  {
   "cell_type": "markdown",
   "metadata": {},
   "source": [
    "### Import the necessary libraries"
   ]
  },
  {
   "cell_type": "code",
   "execution_count": 1,
   "metadata": {},
   "outputs": [],
   "source": [
    "# this is the library that we will use to create break times in order to mimic human behaviour\n",
    "import time\n",
    "from getpass import getpass\n",
    "\n",
    "\n",
    "# Juicy stuff- these are the Classes we will use for interaction with a webpage:\n",
    "from selenium import webdriver\n",
    "from selenium.webdriver.common.keys import Keys\n",
    "from selenium.webdriver.chrome.service import Service\n",
    "from selenium.webdriver.common.by import By\n",
    "from webdriver_manager.chrome import ChromeDriverManager\n",
    "\n",
    "\n",
    "# library for interacting with the operating system\n",
    "import os\n",
    "\n",
    "# you know pandas it's your best buddy\n",
    "import pandas as pd\n",
    "import numpy as np\n",
    "from bs4 import BeautifulSoup\n",
    "import re\n",
    "\n",
    "# library for directory location:\n",
    "\n",
    "import pathlib\n",
    "from os.path import join\n",
    "\n",
    "#Ignore warning -- Some methods are going to be deprecated and I didn't change all (mainly in the function scrapper)\n",
    "import warnings\n",
    "warnings.filterwarnings('ignore')"
   ]
  },
  {
   "cell_type": "markdown",
   "metadata": {},
   "source": [
    "### Load a driver and the website"
   ]
  },
  {
   "cell_type": "code",
   "execution_count": 2,
   "metadata": {},
   "outputs": [],
   "source": [
    "# This line of code opens a new web browser/driver\n",
    "\n",
    "chrome_driver_path = \"/Users/martynas/anaconda3/lib/python3.11/site-packages/webdriver_manager/chromedriver\"\n",
    "\n",
    "driver = webdriver.Chrome(service=Service(chrome_driver_path))"
   ]
  },
  {
   "cell_type": "code",
   "execution_count": 3,
   "metadata": {},
   "outputs": [],
   "source": [
    "# We will be using this url to collect our data\n",
    "driver.get('https://ber.berlin-airport.de/en.html')"
   ]
  },
  {
   "cell_type": "markdown",
   "metadata": {},
   "source": [
    "### Click cookies"
   ]
  },
  {
   "cell_type": "code",
   "execution_count": 4,
   "metadata": {},
   "outputs": [],
   "source": [
    "# Our url prompts cookies so we will click \"OK\", if it's already clicked the cell will print \"Cookies already accepted.\"\n",
    "try:\n",
    "    cookie_button = driver.find_element(By.ID, \"CybotCookiebotDialogBodyLevelButtonLevelOptinAllowAll\")\n",
    "    cookie_button.click()\n",
    "    time.sleep(2.5)\n",
    "except:\n",
    "    print(\"Cookies already accepted.\")"
   ]
  },
  {
   "cell_type": "markdown",
   "metadata": {},
   "source": [
    "### Click to select a date"
   ]
  },
  {
   "cell_type": "code",
   "execution_count": 5,
   "metadata": {},
   "outputs": [],
   "source": [
    "# We find the button to click to select the date we want to scrape\n",
    "date_button = driver.find_element(By.CSS_SELECTOR, \"div[class^='flight-search__date--input-wrapper']\")\n",
    "date_button.click()\n",
    "time.sleep(2.5)"
   ]
  },
  {
   "cell_type": "markdown",
   "metadata": {},
   "source": [
    "---"
   ]
  },
  {
   "cell_type": "markdown",
   "metadata": {},
   "source": [
    "## Once you have found your desired flights, let the scraping begin:"
   ]
  },
  {
   "cell_type": "markdown",
   "metadata": {},
   "source": [
    "### Get the html page source"
   ]
  },
  {
   "cell_type": "code",
   "execution_count": 9,
   "metadata": {},
   "outputs": [],
   "source": [
    "# Get the source code of the page and create a beautiful soup\n",
    "html = driver.page_source\n",
    "soup = BeautifulSoup(html)"
   ]
  },
  {
   "cell_type": "markdown",
   "metadata": {},
   "source": [
    "### Get all the flight links and save to a list"
   ]
  },
  {
   "cell_type": "code",
   "execution_count": 10,
   "metadata": {},
   "outputs": [],
   "source": [
    "# You already know how beautiful soup works, so I've done the digging for you\n",
    "\n",
    "flights = soup.find_all('div', attrs= {'class' : 'cmp-flightlist__list__items'})\n",
    "result_set_html = ''.join(str(tag) for tag in flights)\n",
    "new_flights = BeautifulSoup(result_set_html, 'html.parser')\n",
    "\n",
    "# Set the base URL to connect to the new links\n",
    "base_url = \"https://ber.berlin-airport.de\"\n",
    "\n",
    "# Find the location of the links in the beautiful soup\n",
    "a_tags = new_flights.find_all('a')\n",
    "\n",
    "# Save all the links to a list variable \"href_links\"\n",
    "href_list = [base_url + tag['href'] for tag in a_tags if 'href' in tag.attrs]"
   ]
  },
  {
   "cell_type": "markdown",
   "metadata": {},
   "source": [
    "### Save the links to a file for safe keeps"
   ]
  },
  {
   "cell_type": "code",
   "execution_count": 11,
   "metadata": {},
   "outputs": [
    {
     "name": "stdout",
     "output_type": "stream",
     "text": [
      "What Day: 02\n",
      "Arrival or Departure: arrival\n"
     ]
    }
   ],
   "source": [
    "# Input the date you chose\n",
    "date_of_scrape = input(\"What Day: \")\n",
    "\n",
    "# Input arrival or departure\n",
    "arr_dep = input(\"Arrival or Departure: \")\n",
    "\n",
    "# Set the file path to your directory with name of new text file\n",
    "file_path = f\"Href Links/{arr_dep}_links_{date_of_scrape}.txt\"\n",
    "\n",
    "#Save it as a .txt file\n",
    "with open(file_path, 'w') as file:\n",
    "    for href in href_list:\n",
    "        file.write(f\"{href}\\n\")"
   ]
  },
  {
   "cell_type": "markdown",
   "metadata": {},
   "source": [
    "---"
   ]
  },
  {
   "cell_type": "markdown",
   "metadata": {},
   "source": [
    "# Testing for Elements"
   ]
  },
  {
   "cell_type": "markdown",
   "metadata": {},
   "source": [
    "### Open the links file into a list"
   ]
  },
  {
   "cell_type": "markdown",
   "metadata": {},
   "source": [
    "#### Departures"
   ]
  },
  {
   "cell_type": "code",
   "execution_count": 12,
   "metadata": {},
   "outputs": [
    {
     "name": "stdout",
     "output_type": "stream",
     "text": [
      "What Day: 02\n"
     ]
    }
   ],
   "source": [
    "# Select the date\n",
    "date_of_scrape = input(\"What Day: \")\n",
    "\n",
    "# Open the text file\n",
    "with open(f\"Href Links/departure_links_{date_of_scrape}.txt\", 'r') as file:\n",
    "    href_list_dep = [line.strip() for line in file]"
   ]
  },
  {
   "cell_type": "markdown",
   "metadata": {},
   "source": [
    "#### Arrivals"
   ]
  },
  {
   "cell_type": "code",
   "execution_count": 13,
   "metadata": {},
   "outputs": [
    {
     "name": "stdout",
     "output_type": "stream",
     "text": [
      "What Day: 02\n"
     ]
    }
   ],
   "source": [
    "# Select the date\n",
    "date_of_scrape = input(\"What Day: \")\n",
    "\n",
    "# Open the text file\n",
    "with open(f\"Href Links/arrival_links_{date_of_scrape}.txt\", 'r') as file:\n",
    "    href_list_arr = [line.strip() for line in file]"
   ]
  },
  {
   "cell_type": "markdown",
   "metadata": {},
   "source": [
    "### Test for elements"
   ]
  },
  {
   "cell_type": "markdown",
   "metadata": {},
   "source": [
    "#### Departures"
   ]
  },
  {
   "cell_type": "code",
   "execution_count": 23,
   "metadata": {},
   "outputs": [
    {
     "data": {
      "text/plain": [
       "'https://ber.berlin-airport.de/en/flying/departures-arrivals/flugdetails.html?flightId=1320422'"
      ]
     },
     "execution_count": 23,
     "metadata": {},
     "output_type": "execute_result"
    }
   ],
   "source": [
    "# Check the list of links for an example flight\n",
    "href_list_dep[3]"
   ]
  },
  {
   "cell_type": "code",
   "execution_count": 25,
   "metadata": {},
   "outputs": [],
   "source": [
    "# Open one of the links\n",
    "driver.get(href_list_dep[3])"
   ]
  },
  {
   "cell_type": "code",
   "execution_count": 30,
   "metadata": {},
   "outputs": [],
   "source": [
    "# Get the scheduled time of the arrival flight\n",
    "new_element = driver.find_element(By.CSS_SELECTOR,\"strong[data-flight-data^='dep_scheduled_time']\").text"
   ]
  },
  {
   "cell_type": "code",
   "execution_count": 31,
   "metadata": {},
   "outputs": [
    {
     "data": {
      "text/plain": [
       "'02/08/2024 20:25'"
      ]
     },
     "execution_count": 31,
     "metadata": {},
     "output_type": "execute_result"
    }
   ],
   "source": [
    "new_element"
   ]
  },
  {
   "cell_type": "markdown",
   "metadata": {},
   "source": [
    "#### Arrivals"
   ]
  },
  {
   "cell_type": "code",
   "execution_count": 14,
   "metadata": {
    "scrolled": true
   },
   "outputs": [
    {
     "data": {
      "text/plain": [
       "'https://ber.berlin-airport.de/en/flying/departures-arrivals/flugdetails.html?flightId=1320470'"
      ]
     },
     "execution_count": 14,
     "metadata": {},
     "output_type": "execute_result"
    }
   ],
   "source": [
    "# Check the list of links for an example flight\n",
    "href_list_arr[3]"
   ]
  },
  {
   "cell_type": "code",
   "execution_count": 15,
   "metadata": {},
   "outputs": [],
   "source": [
    "# Open one of the links\n",
    "driver.get(href_list_arr[2])"
   ]
  },
  {
   "cell_type": "code",
   "execution_count": 21,
   "metadata": {},
   "outputs": [],
   "source": [
    "# Get the scheduled time of the arrival flight\n",
    "new_element = driver.find_element(By.CSS_SELECTOR,\"strong[data-flight-data^='arr_expected_time']\").text"
   ]
  },
  {
   "cell_type": "code",
   "execution_count": 22,
   "metadata": {},
   "outputs": [
    {
     "data": {
      "text/plain": [
       "'02/08/2024 22:07'"
      ]
     },
     "execution_count": 22,
     "metadata": {},
     "output_type": "execute_result"
    }
   ],
   "source": [
    "new_element"
   ]
  },
  {
   "cell_type": "markdown",
   "metadata": {},
   "source": [
    "## Use the function below to scrape all the flights in the list of links and create a database"
   ]
  },
  {
   "cell_type": "markdown",
   "metadata": {},
   "source": [
    "### Departures"
   ]
  },
  {
   "cell_type": "code",
   "execution_count": 35,
   "metadata": {
    "scrolled": true
   },
   "outputs": [
    {
     "data": {
      "text/plain": [
       "29"
      ]
     },
     "execution_count": 35,
     "metadata": {},
     "output_type": "execute_result"
    }
   ],
   "source": [
    "len(href_list_dep)"
   ]
  },
  {
   "cell_type": "code",
   "execution_count": 33,
   "metadata": {
    "scrolled": true
   },
   "outputs": [
    {
     "name": "stdout",
     "output_type": "stream",
     "text": [
      "What Day: 02\n",
      "1 out of 29 scraped\n",
      "2 out of 29 scraped\n",
      "3 out of 29 scraped\n",
      "4 out of 29 scraped\n",
      "5 out of 29 scraped\n"
     ]
    }
   ],
   "source": [
    "flight_data_dep = []\n",
    "date_of_scrape = input(\"What Day: \")\n",
    "for_loading = 0\n",
    "\n",
    "with open(f\"Href Links/departure_links_{date_of_scrape}.txt\", 'r') as file:\n",
    "    href_list_dep = [line.strip() for line in file]\n",
    "    \n",
    "for link in href_list_dep[]:\n",
    "    \n",
    "    driver.get(link)\n",
    "    time.sleep(1)\n",
    "    \n",
    "    try:\n",
    "        cookie_button = driver.find_element(By.ID, \"CybotCookiebotDialogBodyLevelButtonLevelOptinAllowAll\")\n",
    "        cookie_button.click()\n",
    "        time.sleep(1.5)\n",
    "    except:\n",
    "        pass\n",
    "    \n",
    "    driver.execute_script(\"document.body.style.zoom='100%'\")\n",
    "\n",
    "    driver.execute_script(\"document.body.style.zoom='67%'\")\n",
    "    time.sleep(1.3)\n",
    "    \n",
    "    \n",
    "    depart_air = driver.find_element(By.CSS_SELECTOR,\"h2[data-flight-data^='dep_airport_name']\").text\n",
    "    arrival_air = driver.find_element(By.CSS_SELECTOR,\"h2[data-flight-data^='arr_airport_name']\").text\n",
    "    date_time = driver.find_element(By.CSS_SELECTOR,\"strong[data-flight-data^='dep_scheduled_time']\").text\n",
    "    actual_time = driver.find_element(By.CSS_SELECTOR,\"strong[data-flight-data^='dep_expected_time']\").text\n",
    "    terminal = driver.find_element(By.CSS_SELECTOR,\"i[data-flight-data^='terminal']\").text\n",
    "    check_in = driver.find_element(By.CSS_SELECTOR,\"strong[data-flight-data^='checkin_counter']\").text\n",
    "    gate = driver.find_element(By.CSS_SELECTOR,\"strong[data-flight-data^='gate']\").text\n",
    "    airline = driver.find_element(By.CSS_SELECTOR,\"span[data-flight-data^='airline_name']\").text\n",
    "    flight_nr = driver.find_element(By.CSS_SELECTOR,\"strong[data-flight-data^='flight_number_details']\").text\n",
    "    aircraft_type = driver.find_element(By.CSS_SELECTOR,\"strong[data-flight-data^='aircraft_type']\").text\n",
    "    plane_reg = driver.find_element(By.CSS_SELECTOR,\"strong[data-flight-data^='aircraft_reg']\").text\n",
    "    status = driver.find_element(By.CSS_SELECTOR,\"u[data-flight-data^='flight_status_label']\").text\n",
    "\n",
    "    flight_idx_list_dep = [depart_air, arrival_air, date_time, actual_time, terminal, check_in, gate, flight_nr, aircraft_type, plane_reg, status, airline]\n",
    "    \n",
    "    flight_data_dep.append(flight_idx_list_dep)\n",
    "    \n",
    "    \n",
    "    for_loading = for_loading+1\n",
    "    print(f\"{for_loading} out of {len(href_list_dep)} scraped\")\n",
    "    \n",
    "departure_dataframe = pd.DataFrame(flight_data_dep,\n",
    "                                 columns = [\"Departure\", \"Destination\", \"Date and Time\", \"Actual Departure\", \"Terminal\", \"Check In\" , \"Gate\", \"Flight Number\", \"Aircraft Type\", \"Plane Reg\", \"Flight Status\", \"Airline\" ]\n",
    "                                )\n",
    "\n",
    "departure_dataframe.to_excel(f\"Data/departure_info_{date_of_scrape}.xlsx\",\n",
    "                           sheet_name='Flights',\n",
    "                           index= False)"
   ]
  },
  {
   "cell_type": "markdown",
   "metadata": {},
   "source": [
    "### Arrivals"
   ]
  },
  {
   "cell_type": "code",
   "execution_count": 36,
   "metadata": {
    "scrolled": true
   },
   "outputs": [
    {
     "name": "stdout",
     "output_type": "stream",
     "text": [
      "What Date: 02\n",
      "1 out of 56 scraped\n",
      "2 out of 56 scraped\n",
      "3 out of 56 scraped\n",
      "4 out of 56 scraped\n",
      "5 out of 56 scraped\n"
     ]
    }
   ],
   "source": [
    "flight_data_arr = []\n",
    "date_of_scrape = input(\"What Date: \")\n",
    "for_loading = 0\n",
    "\n",
    "with open(f\"Href Links/arrival_links_{date_of_scrape}.txt\", 'r') as file:\n",
    "    href_list_arr = [line.strip() for line in file]\n",
    "\n",
    "for link in href_list_arr[]:\n",
    "    \n",
    "    driver.get(link)\n",
    "    time.sleep(1)\n",
    "    \n",
    "    try:\n",
    "        cookie_button = driver.find_element(By.ID, \"CybotCookiebotDialogBodyLevelButtonLevelOptinAllowAll\")\n",
    "        cookie_button.click()\n",
    "        time.sleep(1.5)\n",
    "    except:\n",
    "        pass\n",
    "    \n",
    "    driver.execute_script(\"document.body.style.zoom='100%'\")\n",
    "\n",
    "    driver.execute_script(\"document.body.style.zoom='67%'\")\n",
    "    time.sleep(1.3)\n",
    "    \n",
    "    \n",
    "    depart_air = driver.find_element(By.CSS_SELECTOR,\"h2[data-flight-data^='dep_airport_name']\").text\n",
    "    arrival_air = driver.find_element(By.CSS_SELECTOR,\"h2[data-flight-data^='arr_airport_name']\").text\n",
    "    date_time = driver.find_element(By.CSS_SELECTOR,\"strong[data-flight-data^='arr_scheduled_time']\").text\n",
    "    actual_time = driver.find_element(By.CSS_SELECTOR,\"strong[data-flight-data^='arr_expected_time']\").text\n",
    "    terminal = driver.find_element(By.CSS_SELECTOR,\"i[data-flight-data^='terminal_arr']\").text\n",
    "    check_in = driver.find_element(By.CSS_SELECTOR,\"strong[data-flight-data^='arr_belt']\").text\n",
    "    gate = driver.find_element(By.CSS_SELECTOR,\"strong[data-flight-data^='gate_arr']\").text\n",
    "    airline = driver.find_element(By.CSS_SELECTOR,\"span[data-flight-data^='airline_name']\").text\n",
    "    flight_nr = driver.find_element(By.CSS_SELECTOR,\"strong[data-flight-data^='flight_number_details']\").text\n",
    "    aircraft_type = driver.find_element(By.CSS_SELECTOR,\"strong[data-flight-data^='aircraft_type']\").text\n",
    "    plane_reg = driver.find_element(By.CSS_SELECTOR,\"strong[data-flight-data^='aircraft_reg']\").text\n",
    "    status = driver.find_element(By.CSS_SELECTOR,\"u[data-flight-data^='flight_status_label']\").text\n",
    "\n",
    "    flight_idx_list_arr = [depart_air, arrival_air, date_time, actual_time, terminal, check_in, gate, flight_nr, aircraft_type, plane_reg, status, airline]\n",
    "    \n",
    "    flight_data_arr.append(flight_idx_list_arr)\n",
    "    \n",
    "    \n",
    "    for_loading = for_loading+1\n",
    "    print(f\"{for_loading} out of {len(href_list_arr)} scraped\")\n",
    "    \n",
    "arrival_dataframe = pd.DataFrame(flight_data_arr,\n",
    "                                 columns = [\"Departure\", \"Destination\", \"Date and Time\", \"Actual Arrival\", \"Terminal\", \"Baggage Claim\" , \"Gate\", \"Flight Number\", \"Aircraft Type\", \"Plane Reg\", \"Flight Status\", \"Airline\" ]\n",
    "                                )\n",
    "\n",
    "arrival_dataframe.to_excel(f\"Data/arrival_info_{date_of_scrape}.xlsx\",\n",
    "                           sheet_name='Flights',\n",
    "                           index= False)"
   ]
  },
  {
   "cell_type": "markdown",
   "metadata": {},
   "source": [
    "### Close Driver"
   ]
  },
  {
   "cell_type": "code",
   "execution_count": null,
   "metadata": {},
   "outputs": [],
   "source": [
    "driver.close()"
   ]
  },
  {
   "cell_type": "markdown",
   "metadata": {},
   "source": [
    "---"
   ]
  },
  {
   "cell_type": "markdown",
   "metadata": {},
   "source": [
    "## Check the data"
   ]
  },
  {
   "cell_type": "code",
   "execution_count": 37,
   "metadata": {},
   "outputs": [
    {
     "data": {
      "text/html": [
       "<div>\n",
       "<style scoped>\n",
       "    .dataframe tbody tr th:only-of-type {\n",
       "        vertical-align: middle;\n",
       "    }\n",
       "\n",
       "    .dataframe tbody tr th {\n",
       "        vertical-align: top;\n",
       "    }\n",
       "\n",
       "    .dataframe thead th {\n",
       "        text-align: right;\n",
       "    }\n",
       "</style>\n",
       "<table border=\"1\" class=\"dataframe\">\n",
       "  <thead>\n",
       "    <tr style=\"text-align: right;\">\n",
       "      <th></th>\n",
       "      <th>Departure</th>\n",
       "      <th>Destination</th>\n",
       "      <th>Date and Time</th>\n",
       "      <th>Actual Departure</th>\n",
       "      <th>Terminal</th>\n",
       "      <th>Check In</th>\n",
       "      <th>Gate</th>\n",
       "      <th>Flight Number</th>\n",
       "      <th>Aircraft Type</th>\n",
       "      <th>Plane Reg</th>\n",
       "      <th>Flight Status</th>\n",
       "      <th>Airline</th>\n",
       "    </tr>\n",
       "  </thead>\n",
       "  <tbody>\n",
       "    <tr>\n",
       "      <th>0</th>\n",
       "      <td>Berlin Brandenburg Airport</td>\n",
       "      <td>Copenhagen</td>\n",
       "      <td>02/08/2024 19:40</td>\n",
       "      <td>02/08/2024 21:00</td>\n",
       "      <td>T1</td>\n",
       "      <td>611-616</td>\n",
       "      <td>A31</td>\n",
       "      <td>EJU5267</td>\n",
       "      <td>A319</td>\n",
       "      <td>OELQI</td>\n",
       "      <td>Departed</td>\n",
       "      <td>easyJet Europe (EJU)</td>\n",
       "    </tr>\n",
       "    <tr>\n",
       "      <th>1</th>\n",
       "      <td>Berlin Brandenburg Airport</td>\n",
       "      <td>Saarbrücken</td>\n",
       "      <td>02/08/2024 19:50</td>\n",
       "      <td>02/08/2024 21:00</td>\n",
       "      <td>T1</td>\n",
       "      <td>115-116</td>\n",
       "      <td>B36</td>\n",
       "      <td>DX 126</td>\n",
       "      <td>ATR 42-500</td>\n",
       "      <td>OYRUO</td>\n",
       "      <td>Departed</td>\n",
       "      <td>Danish Air Transport (DX)</td>\n",
       "    </tr>\n",
       "    <tr>\n",
       "      <th>2</th>\n",
       "      <td>Berlin Brandenburg Airport</td>\n",
       "      <td>Belgrade</td>\n",
       "      <td>02/08/2024 19:55</td>\n",
       "      <td>02/08/2024 21:05</td>\n",
       "      <td>T1</td>\n",
       "      <td>714-716</td>\n",
       "      <td>C07</td>\n",
       "      <td>JU 357</td>\n",
       "      <td>A319</td>\n",
       "      <td>YUAPN</td>\n",
       "      <td>Departed</td>\n",
       "      <td>Air Serbia (JU)</td>\n",
       "    </tr>\n",
       "    <tr>\n",
       "      <th>3</th>\n",
       "      <td>#####</td>\n",
       "      <td>#####</td>\n",
       "      <td>##.##.#### ##:##</td>\n",
       "      <td>##.##.#### ##:##</td>\n",
       "      <td>##</td>\n",
       "      <td>##</td>\n",
       "      <td>##</td>\n",
       "      <td>##</td>\n",
       "      <td>##</td>\n",
       "      <td>##</td>\n",
       "      <td>- - -</td>\n",
       "      <td>### (##)</td>\n",
       "    </tr>\n",
       "    <tr>\n",
       "      <th>4</th>\n",
       "      <td>Berlin Brandenburg Airport</td>\n",
       "      <td>Palma de Mallorca</td>\n",
       "      <td>02/08/2024 20:30</td>\n",
       "      <td>02/08/2024 22:00</td>\n",
       "      <td>T1</td>\n",
       "      <td>611-616</td>\n",
       "      <td>A34</td>\n",
       "      <td>EJU7336</td>\n",
       "      <td>A320-200 Sharklets</td>\n",
       "      <td>OEIZG</td>\n",
       "      <td>Departed</td>\n",
       "      <td>easyJet Europe (EJU)</td>\n",
       "    </tr>\n",
       "  </tbody>\n",
       "</table>\n",
       "</div>"
      ],
      "text/plain": [
       "                    Departure        Destination     Date and Time  \\\n",
       "0  Berlin Brandenburg Airport         Copenhagen  02/08/2024 19:40   \n",
       "1  Berlin Brandenburg Airport        Saarbrücken  02/08/2024 19:50   \n",
       "2  Berlin Brandenburg Airport           Belgrade  02/08/2024 19:55   \n",
       "3                       #####              #####  ##.##.#### ##:##   \n",
       "4  Berlin Brandenburg Airport  Palma de Mallorca  02/08/2024 20:30   \n",
       "\n",
       "   Actual Departure Terminal Check In Gate Flight Number       Aircraft Type  \\\n",
       "0  02/08/2024 21:00       T1  611-616  A31       EJU5267                A319   \n",
       "1  02/08/2024 21:00       T1  115-116  B36        DX 126          ATR 42-500   \n",
       "2  02/08/2024 21:05       T1  714-716  C07        JU 357                A319   \n",
       "3  ##.##.#### ##:##       ##       ##   ##            ##                  ##   \n",
       "4  02/08/2024 22:00       T1  611-616  A34       EJU7336  A320-200 Sharklets   \n",
       "\n",
       "  Plane Reg Flight Status                    Airline  \n",
       "0     OELQI      Departed       easyJet Europe (EJU)  \n",
       "1     OYRUO      Departed  Danish Air Transport (DX)  \n",
       "2     YUAPN      Departed            Air Serbia (JU)  \n",
       "3        ##         - - -                   ### (##)  \n",
       "4     OEIZG      Departed       easyJet Europe (EJU)  "
      ]
     },
     "execution_count": 37,
     "metadata": {},
     "output_type": "execute_result"
    }
   ],
   "source": [
    "departures = pd.read_excel(\"Data/departure_info_02.xlsx\")\n",
    "departures.head()"
   ]
  },
  {
   "cell_type": "code",
   "execution_count": 39,
   "metadata": {},
   "outputs": [
    {
     "data": {
      "text/html": [
       "<div>\n",
       "<style scoped>\n",
       "    .dataframe tbody tr th:only-of-type {\n",
       "        vertical-align: middle;\n",
       "    }\n",
       "\n",
       "    .dataframe tbody tr th {\n",
       "        vertical-align: top;\n",
       "    }\n",
       "\n",
       "    .dataframe thead th {\n",
       "        text-align: right;\n",
       "    }\n",
       "</style>\n",
       "<table border=\"1\" class=\"dataframe\">\n",
       "  <thead>\n",
       "    <tr style=\"text-align: right;\">\n",
       "      <th></th>\n",
       "      <th>Departure</th>\n",
       "      <th>Destination</th>\n",
       "      <th>Date and Time</th>\n",
       "      <th>Actual Arrival</th>\n",
       "      <th>Terminal</th>\n",
       "      <th>Baggage Claim</th>\n",
       "      <th>Gate</th>\n",
       "      <th>Flight Number</th>\n",
       "      <th>Aircraft Type</th>\n",
       "      <th>Plane Reg</th>\n",
       "      <th>Flight Status</th>\n",
       "      <th>Airline</th>\n",
       "    </tr>\n",
       "  </thead>\n",
       "  <tbody>\n",
       "    <tr>\n",
       "      <th>0</th>\n",
       "      <td>Naples</td>\n",
       "      <td>Berlin Brandenburg Airport</td>\n",
       "      <td>02/08/2024 18:00</td>\n",
       "      <td>02/08/2024 21:19</td>\n",
       "      <td>T1</td>\n",
       "      <td>A3</td>\n",
       "      <td>A32</td>\n",
       "      <td>EJU5054</td>\n",
       "      <td>A320-200</td>\n",
       "      <td>OEIDD</td>\n",
       "      <td>Arrived</td>\n",
       "      <td>easyJet Europe (EJU)</td>\n",
       "    </tr>\n",
       "    <tr>\n",
       "      <th>1</th>\n",
       "      <td>Palma de Mallorca</td>\n",
       "      <td>Berlin Brandenburg Airport</td>\n",
       "      <td>02/08/2024 19:35</td>\n",
       "      <td>02/08/2024 21:32</td>\n",
       "      <td>T1</td>\n",
       "      <td>A1</td>\n",
       "      <td>A34</td>\n",
       "      <td>EJU7335</td>\n",
       "      <td>A320-200 Sharklets</td>\n",
       "      <td>OEIZG</td>\n",
       "      <td>Arrived</td>\n",
       "      <td>easyJet Europe (EJU)</td>\n",
       "    </tr>\n",
       "    <tr>\n",
       "      <th>2</th>\n",
       "      <td>Antalya</td>\n",
       "      <td>Berlin Brandenburg Airport</td>\n",
       "      <td>02/08/2024 20:25</td>\n",
       "      <td>02/08/2024 22:07</td>\n",
       "      <td>T1</td>\n",
       "      <td>B2</td>\n",
       "      <td>Y03</td>\n",
       "      <td>XQ 662</td>\n",
       "      <td>737-800 Winglets</td>\n",
       "      <td>TCSUU</td>\n",
       "      <td>Arrived</td>\n",
       "      <td>Sun Express (XQ)</td>\n",
       "    </tr>\n",
       "    <tr>\n",
       "      <th>3</th>\n",
       "      <td>Nice</td>\n",
       "      <td>Berlin Brandenburg Airport</td>\n",
       "      <td>02/08/2024 20:30</td>\n",
       "      <td>02/08/2024 21:40</td>\n",
       "      <td>T1</td>\n",
       "      <td>A3</td>\n",
       "      <td>A33</td>\n",
       "      <td>EJU5146</td>\n",
       "      <td>A320-200 Sharklets</td>\n",
       "      <td>OEIBF</td>\n",
       "      <td>Arrived</td>\n",
       "      <td>easyJet Europe (EJU)</td>\n",
       "    </tr>\n",
       "    <tr>\n",
       "      <th>4</th>\n",
       "      <td>#####</td>\n",
       "      <td>#####</td>\n",
       "      <td>##.##.#### ##:##</td>\n",
       "      <td>##.##.#### ##:##</td>\n",
       "      <td>##</td>\n",
       "      <td>##</td>\n",
       "      <td>##</td>\n",
       "      <td>##</td>\n",
       "      <td>##</td>\n",
       "      <td>##</td>\n",
       "      <td>- - -</td>\n",
       "      <td>### (##)</td>\n",
       "    </tr>\n",
       "  </tbody>\n",
       "</table>\n",
       "</div>"
      ],
      "text/plain": [
       "           Departure                 Destination     Date and Time  \\\n",
       "0             Naples  Berlin Brandenburg Airport  02/08/2024 18:00   \n",
       "1  Palma de Mallorca  Berlin Brandenburg Airport  02/08/2024 19:35   \n",
       "2            Antalya  Berlin Brandenburg Airport  02/08/2024 20:25   \n",
       "3               Nice  Berlin Brandenburg Airport  02/08/2024 20:30   \n",
       "4              #####                       #####  ##.##.#### ##:##   \n",
       "\n",
       "     Actual Arrival Terminal Baggage Claim Gate Flight Number  \\\n",
       "0  02/08/2024 21:19       T1            A3  A32       EJU5054   \n",
       "1  02/08/2024 21:32       T1            A1  A34       EJU7335   \n",
       "2  02/08/2024 22:07       T1            B2  Y03        XQ 662   \n",
       "3  02/08/2024 21:40       T1            A3  A33       EJU5146   \n",
       "4  ##.##.#### ##:##       ##            ##   ##            ##   \n",
       "\n",
       "        Aircraft Type Plane Reg Flight Status               Airline  \n",
       "0            A320-200     OEIDD       Arrived  easyJet Europe (EJU)  \n",
       "1  A320-200 Sharklets     OEIZG       Arrived  easyJet Europe (EJU)  \n",
       "2    737-800 Winglets     TCSUU       Arrived      Sun Express (XQ)  \n",
       "3  A320-200 Sharklets     OEIBF       Arrived  easyJet Europe (EJU)  \n",
       "4                  ##        ##         - - -              ### (##)  "
      ]
     },
     "execution_count": 39,
     "metadata": {},
     "output_type": "execute_result"
    }
   ],
   "source": [
    "arrivals = pd.read_excel(\"Data/arrival_info_02.xlsx\")\n",
    "arrivals.head()"
   ]
  },
  {
   "cell_type": "code",
   "execution_count": null,
   "metadata": {},
   "outputs": [],
   "source": []
  }
 ],
 "metadata": {
  "colab": {
   "collapsed_sections": [
    "DjHVfaipR9WG",
    "gM6LkxT5R9WH"
   ],
   "provenance": []
  },
  "kernelspec": {
   "display_name": "Python 3 (ipykernel)",
   "language": "python",
   "name": "python3"
  },
  "language_info": {
   "codemirror_mode": {
    "name": "ipython",
    "version": 3
   },
   "file_extension": ".py",
   "mimetype": "text/x-python",
   "name": "python",
   "nbconvert_exporter": "python",
   "pygments_lexer": "ipython3",
   "version": "3.11.5"
  }
 },
 "nbformat": 4,
 "nbformat_minor": 1
}
